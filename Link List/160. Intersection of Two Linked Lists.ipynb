{
 "cells": [
  {
   "cell_type": "markdown",
   "metadata": {},
   "source": [
    "# 160. Intersection of Two Linked Lists\n",
    "Write a program to find the node at which the intersection of two singly linked lists begins.\n",
    "\n",
    "\n",
    "For example, the following two linked lists:\n",
    "\n",
    "A:----------a1 → a2    \n",
    "------------------------↘    \n",
    "---------------------------c1 → c2 → c3    \n",
    "------------------------↗                \n",
    "B:-----b1 → b2 → b3    \n",
    "\n",
    "begin to intersect at node c1.  \n",
    "\n",
    "\n",
    "Notes:\n",
    "\n",
    "If the two linked lists have no intersection at all, return null.  \n",
    "The linked lists must retain their original structure after the function returns.  \n",
    "You may assume there are no cycles anywhere in the entire linked structure.  \n",
    "Your code should preferably run in O(n) time and use only O(1) memory.  "
   ]
  },
  {
   "cell_type": "markdown",
   "metadata": {},
   "source": [
    "# Solution\n",
    "1个指针遍历A，然后遍历B  \n",
    "1个指针遍历B，然后遍历A  \n",
    "这样不管交集前的长度如何必定在第二次遍历的时候都遍历到交集"
   ]
  },
  {
   "cell_type": "code",
   "execution_count": 2,
   "metadata": {},
   "outputs": [],
   "source": [
    "# Definition for singly-linked list.\n",
    "# class ListNode(object):\n",
    "#     def __init__(self, x):\n",
    "#         self.val = x\n",
    "#         self.next = None\n",
    "\n",
    "class Solution(object):\n",
    "    def getIntersectionNode(self, headA, headB):\n",
    "        \"\"\"\n",
    "        :type head1, head1: ListNode\n",
    "        :rtype: ListNode\n",
    "        \"\"\"\n",
    "        if headA is None or headB is None:\n",
    "            return None\n",
    "        pa = headA # 2 pointers\n",
    "        pb = headB\n",
    "\n",
    "        while pa is not pb:\n",
    "            # if either pointer hits the end, switch head and continue the second traversal, \n",
    "            # if not hit the end, just move on to next\n",
    "            pa = headB if pa is None else pa.next\n",
    "            pb = headA if pb is None else pb.next\n",
    "\n",
    "        return pa # only 2 ways to get out of the loop, they meet or the both hit the end=None\n",
    "\n",
    "# the idea is if you switch head, the possible difference between length would be countered. \n",
    "# On the second traversal, they either hit or miss. \n",
    "# if they meet, pa or pb would be the node we are looking for, \n",
    "# if they didn't meet, they will hit the end at the same iteration, pa == pb == None, return either one of them is the same,None"
   ]
  },
  {
   "cell_type": "code",
   "execution_count": null,
   "metadata": {},
   "outputs": [],
   "source": []
  }
 ],
 "metadata": {
  "kernelspec": {
   "display_name": "Python 3",
   "language": "python",
   "name": "python3"
  },
  "language_info": {
   "codemirror_mode": {
    "name": "ipython",
    "version": 3
   },
   "file_extension": ".py",
   "mimetype": "text/x-python",
   "name": "python",
   "nbconvert_exporter": "python",
   "pygments_lexer": "ipython3",
   "version": "3.5.4"
  }
 },
 "nbformat": 4,
 "nbformat_minor": 2
}
