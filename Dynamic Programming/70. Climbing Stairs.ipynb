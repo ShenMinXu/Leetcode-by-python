{
 "cells": [
  {
   "cell_type": "markdown",
   "metadata": {},
   "source": [
    "# 70. Climbing Stairs\n",
    "You are climbing a stair case. It takes n steps to reach to the top.\n",
    "\n",
    "Each time you can either climb 1 or 2 steps. In how many distinct ways can you climb to the top?\n",
    "\n",
    "Note: Given n will be a positive integer.\n",
    "\n",
    "\n",
    "Example 1:\n",
    "\n",
    "Input: 2\n",
    "Output:  2\n",
    "Explanation:  There are two ways to climb to the top.\n",
    "\n",
    "1. 1 step + 1 step\n",
    "2. 2 steps\n",
    "Example 2:\n",
    "\n",
    "Input: 3\n",
    "Output:  3\n",
    "Explanation:  There are three ways to climb to the top.\n",
    "\n",
    "1. 1 step + 1 step + 1 step\n",
    "2. 1 step + 2 steps\n",
    "3. 2 steps + 1 step"
   ]
  },
  {
   "cell_type": "markdown",
   "metadata": {},
   "source": [
    "# Solution 1\n",
    "每次只能走一步或者两步，用递归的思路就是f(n) = f(n-1)+f(n-2)，不过方案1oj的时候超时了还是看下方案2别人怎么写的吧ORZ"
   ]
  },
  {
   "cell_type": "code",
   "execution_count": 14,
   "metadata": {},
   "outputs": [],
   "source": [
    "class Solution:\n",
    "    def climbStairs(self, n):\n",
    "        \"\"\"\n",
    "        :type n: int\n",
    "        :rtype: int\n",
    "        \"\"\"\n",
    "        def climb(n):\n",
    "            if n==1:\n",
    "                return 1\n",
    "            elif n==2:\n",
    "                return 2\n",
    "            else:\n",
    "                return climb(n-1)+climb(n-2)\n",
    "        res = climb(n)\n",
    "        return res\n",
    "            "
   ]
  },
  {
   "cell_type": "markdown",
   "metadata": {},
   "source": [
    "# Solution2\n",
    "这次oj过了，从大家讨论的情况来看，方案1属于从定向下，方案2属于从下向上，方案二花费的时间更短"
   ]
  },
  {
   "cell_type": "code",
   "execution_count": 16,
   "metadata": {},
   "outputs": [],
   "source": [
    "class Solution:\n",
    "    def climbStairs(self, n):\n",
    "        \"\"\"\n",
    "        :type n: int\n",
    "        :rtype: int\n",
    "        \"\"\"\n",
    "        if n == 1:\n",
    "            return 1\n",
    "        res = [0 for i in range(n)]\n",
    "        res[0], res[1] = 1, 2\n",
    "        for i in range(2, n):\n",
    "            res[i] = res[i-1] + res[i-2]\n",
    "        return res[-1]"
   ]
  },
  {
   "cell_type": "markdown",
   "metadata": {},
   "source": [
    "# Time complexity：\n",
    "Solution 1 ：O(n^2)  \n",
    "Solution 2 : O(n)"
   ]
  },
  {
   "cell_type": "code",
   "execution_count": null,
   "metadata": {},
   "outputs": [],
   "source": []
  }
 ],
 "metadata": {
  "kernelspec": {
   "display_name": "Python 3",
   "language": "python",
   "name": "python3"
  },
  "language_info": {
   "codemirror_mode": {
    "name": "ipython",
    "version": 3
   },
   "file_extension": ".py",
   "mimetype": "text/x-python",
   "name": "python",
   "nbconvert_exporter": "python",
   "pygments_lexer": "ipython3",
   "version": "3.5.4"
  }
 },
 "nbformat": 4,
 "nbformat_minor": 2
}
