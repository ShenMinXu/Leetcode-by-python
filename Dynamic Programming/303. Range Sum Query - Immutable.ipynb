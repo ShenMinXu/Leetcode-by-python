{
 "cells": [
  {
   "cell_type": "markdown",
   "metadata": {},
   "source": [
    "# 303. Range Sum Query - Immutable\n",
    "Given an integer array nums, find the sum of the elements between indices i and j (i ≤ j), inclusive.  \n",
    "\n",
    "Example:  \n",
    "Given nums = [-2, 0, 3, -5, 2, -1]  \n",
    "\n",
    "sumRange(0, 2) -> 1  \n",
    "sumRange(2, 5) -> -1  \n",
    "sumRange(0, 5) -> -3  \n",
    "Note:  \n",
    "You may assume that the array does not change.  \n",
    "There are many calls to sumRange function.  "
   ]
  },
  {
   "cell_type": "markdown",
   "metadata": {},
   "source": [
    "# Solution\n",
    "这道题让我们检索一个数组的某个区间的所有数字之和，题目中给了两个条件，首先数组内容不会变化，其次有很多的区间和检索。那么我们用传统的遍历相加来求每次区间和检索，十分的不高效，而且无法通过OJ。所以这道题的难点就在于是否能想到来用建立累计直方图的思想来建立一个累计和的数组accu，其中accu[i]表示[0, i]区间的数字之和，那么[i,j]就可以表示为accu[j]-accu[i-1]，这里要注意一下当i=0时，直接返回accu[j]即可"
   ]
  },
  {
   "cell_type": "code",
   "execution_count": 6,
   "metadata": {},
   "outputs": [],
   "source": [
    "class NumArray:\n",
    "\n",
    "    def __init__(self, nums):\n",
    "        \"\"\"\n",
    "        :type nums: List[int]\n",
    "        \"\"\"\n",
    "        self.accu = [0]\n",
    "        for num in nums: \n",
    "            self.accu += [self.accu[-1] + num] #这里用了数组的拼接\n",
    "\n",
    "    def sumRange(self, i, j):\n",
    "        \"\"\"\n",
    "        :type i: int\n",
    "        :type j: int\n",
    "        :rtype: int\n",
    "        \"\"\"\n",
    "        return self.accu[j + 1] - self.accu[i]\n",
    "\n",
    "# Your NumArray object will be instantiated and called as such:\n",
    "# obj = NumArray(nums)\n",
    "# param_1 = obj.sumRange(i,j)"
   ]
  },
  {
   "cell_type": "code",
   "execution_count": null,
   "metadata": {},
   "outputs": [],
   "source": []
  }
 ],
 "metadata": {
  "kernelspec": {
   "display_name": "Python 3",
   "language": "python",
   "name": "python3"
  },
  "language_info": {
   "codemirror_mode": {
    "name": "ipython",
    "version": 3
   },
   "file_extension": ".py",
   "mimetype": "text/x-python",
   "name": "python",
   "nbconvert_exporter": "python",
   "pygments_lexer": "ipython3",
   "version": "3.5.4"
  }
 },
 "nbformat": 4,
 "nbformat_minor": 2
}
