{
 "cells": [
  {
   "cell_type": "markdown",
   "metadata": {},
   "source": [
    "# 746. Min Cost Climbing Stairs\n",
    "On a staircase, the i-th step has some non-negative cost cost[i] assigned (0 indexed).  \n",
    "\n",
    "Once you pay the cost, you can either climb one or two steps. You need to find minimum cost to reach the top of the floor, and you can either start from the step with index 0, or the step with index 1.  \n",
    "\n",
    "Example 1:  \n",
    "Input: cost = [10, 15, 20]  \n",
    "Output: 15  \n",
    "Explanation: Cheapest is start on cost[1], pay that cost and go to the top.  \n",
    "Example 2:  \n",
    "Input: cost = [1, 100, 1, 1, 1, 100, 1, 1, 100, 1]  \n",
    "Output: 6  \n",
    "Explanation: Cheapest is start on cost[0], and only step on 1s, skipping cost[3].  \n",
    "Note:  \n",
    "1。cost will have a length in the range [2, 1000].  \n",
    "2.Every cost[i] will be an integer in the range [0, 999].  "
   ]
  },
  {
   "cell_type": "markdown",
   "metadata": {},
   "source": [
    "# Solution \n",
    "从底向上，每次走一步或两步，取小的那个  \n",
    "注意走到底的意思是要走到数组的边界外"
   ]
  },
  {
   "cell_type": "code",
   "execution_count": 3,
   "metadata": {},
   "outputs": [],
   "source": [
    "class Solution:\n",
    "    def minCostClimbingStairs(self, cost):\n",
    "        \"\"\"\n",
    "        :type cost: List[int]\n",
    "        :rtype: int\n",
    "        \"\"\"\n",
    "        if n<=2:\n",
    "            return 0\n",
    "        else:\n",
    "            Sn = [0 for i in range(n)]\n",
    "            for i in range(2,n):\n",
    "                Sn[i] =  min(Sn[i-2]+cost[i-2],Sn[i-1]+cost[i-1])\n",
    "            return min(Sn[-1]+cost[-1],Sn[-2]+cost[-2])"
   ]
  },
  {
   "cell_type": "code",
   "execution_count": null,
   "metadata": {},
   "outputs": [],
   "source": []
  }
 ],
 "metadata": {
  "kernelspec": {
   "display_name": "Python 3",
   "language": "python",
   "name": "python3"
  },
  "language_info": {
   "codemirror_mode": {
    "name": "ipython",
    "version": 3
   },
   "file_extension": ".py",
   "mimetype": "text/x-python",
   "name": "python",
   "nbconvert_exporter": "python",
   "pygments_lexer": "ipython3",
   "version": "3.5.4"
  }
 },
 "nbformat": 4,
 "nbformat_minor": 2
}
