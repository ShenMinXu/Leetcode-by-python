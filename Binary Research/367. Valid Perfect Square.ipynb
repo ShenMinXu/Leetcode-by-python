{
 "cells": [
  {
   "cell_type": "markdown",
   "metadata": {},
   "source": [
    "# 367. Valid Perfect Square\n",
    "Given a positive integer num, write a function which returns True if num is a perfect square else False.  \n",
    "\n",
    "Note: Do not use any built-in library function such as sqrt.  \n",
    "\n",
    "Example 1:  \n",
    "  \n",
    "Input: 16  \n",
    "Returns: True  \n",
    "Example 2:  \n",
    "\n",
    "Input: 14  \n",
    "Returns: False  "
   ]
  },
  {
   "cell_type": "markdown",
   "metadata": {},
   "source": [
    "# Solotion1\n",
    "从 0 到 num 里面进行二分查找"
   ]
  },
  {
   "cell_type": "code",
   "execution_count": 3,
   "metadata": {},
   "outputs": [],
   "source": [
    "class Solution(object):\n",
    "    def isPerfectSquare(self, num):\n",
    "        \"\"\"\n",
    "        :type num: int\n",
    "        :rtype: bool\n",
    "        \"\"\"\n",
    "        left = 0 \n",
    "        right  = int(num / 2) + 1\n",
    "        while left<=right:\n",
    "            mid = left + int((right - left)/2)\n",
    "            if  mid*mid == num:\n",
    "                return True\n",
    "            if mid*mid < num:\n",
    "                left = mid + 1\n",
    "            if mid*mid > num:\n",
    "                right = mid - 1\n",
    "        return False\n",
    "        "
   ]
  },
  {
   "cell_type": "code",
   "execution_count": 2,
   "metadata": {},
   "outputs": [
    {
     "data": {
      "text/plain": [
       "1.5"
      ]
     },
     "execution_count": 2,
     "metadata": {},
     "output_type": "execute_result"
    }
   ],
   "source": [
    "3/2"
   ]
  },
  {
   "cell_type": "code",
   "execution_count": null,
   "metadata": {},
   "outputs": [],
   "source": []
  }
 ],
 "metadata": {
  "kernelspec": {
   "display_name": "Python 3",
   "language": "python",
   "name": "python3"
  },
  "language_info": {
   "codemirror_mode": {
    "name": "ipython",
    "version": 3
   },
   "file_extension": ".py",
   "mimetype": "text/x-python",
   "name": "python",
   "nbconvert_exporter": "python",
   "pygments_lexer": "ipython3",
   "version": "3.5.4"
  }
 },
 "nbformat": 4,
 "nbformat_minor": 2
}
