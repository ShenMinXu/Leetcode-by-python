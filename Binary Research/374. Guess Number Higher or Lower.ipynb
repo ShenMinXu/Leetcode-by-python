{
 "cells": [
  {
   "cell_type": "markdown",
   "metadata": {},
   "source": [
    "# 374. Guess Number Higher or Lower\n",
    "We are playing the Guess Game. The game is as follows:  \n",
    "\n",
    "I pick a number from 1 to n. You have to guess which number I picked.  \n",
    "\n",
    "Every time you guess wrong, I'll tell you whether the number is higher or lower.  \n",
    "\n",
    "You call a pre-defined API guess(int num) which returns 3 possible results (-1, 1, or 0):  \n",
    "\n",
    "-1 : My number is lower  \n",
    " 1 : My number is higher  \n",
    " 0 : Congrats! You got it!  \n",
    "Example:  \n",
    "n = 10, I pick 6.  \n",
    "\n",
    "Return 6.  "
   ]
  },
  {
   "cell_type": "markdown",
   "metadata": {},
   "source": [
    "# Solution\n",
    "本来以为很简单，结果题目理解错了， My number 指的是出题者的number"
   ]
  },
  {
   "cell_type": "code",
   "execution_count": null,
   "metadata": {},
   "outputs": [],
   "source": [
    "# The guess API is already defined for you.\n",
    "# @param num, your guess\n",
    "# @return -1 if my number is lower, 1 if my number is higher, otherwise return 0\n",
    "# def guess(num):\n",
    "\n",
    "class Solution(object):\n",
    "    def guessNumber(self, n):\n",
    "        \"\"\"\n",
    "        :type n: int\n",
    "        :rtype: int\n",
    "        \"\"\"\n",
    "        left  = 0\n",
    "        right  = n - 1\n",
    "        while left <= right:\n",
    "            mid = left + int((right - left)/2)\n",
    "            if guess(mid) == 0:\n",
    "                return mid\n",
    "            elif guess(mid) == -1 : \n",
    "               \n",
    "                right = mid - 1\n",
    "            else:\n",
    "                 left = mid + 1\n",
    "                \n",
    "        "
   ]
  },
  {
   "cell_type": "code",
   "execution_count": null,
   "metadata": {},
   "outputs": [],
   "source": [
    "#test  \n",
    "test = Solution"
   ]
  }
 ],
 "metadata": {
  "kernelspec": {
   "display_name": "Python 3",
   "language": "python",
   "name": "python3"
  },
  "language_info": {
   "codemirror_mode": {
    "name": "ipython",
    "version": 3
   },
   "file_extension": ".py",
   "mimetype": "text/x-python",
   "name": "python",
   "nbconvert_exporter": "python",
   "pygments_lexer": "ipython3",
   "version": "3.5.4"
  }
 },
 "nbformat": 4,
 "nbformat_minor": 2
}
