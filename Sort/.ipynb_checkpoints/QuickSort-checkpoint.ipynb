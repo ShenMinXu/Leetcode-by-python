{
 "cells": [
  {
   "cell_type": "markdown",
   "metadata": {},
   "source": [
    "快速排序（quickSort）  \n",
    "快排的思想：首先任意选取一个数据（通常选用数组的第一个数）作为关键数据，然后将所有比它小的数都放到它前面，所有比它大的数都放到它后面，这个过程称为一趟快速排序。  \n",
    "\n",
    "百度百科给的算法：  \n",
    "\n",
    "一趟快速排序的算法是：  \n",
    "1）设置两个变量i、j，排序开始的时候：i=0，j=N-1；  \n",
    "2）以第一个数组元素作为关键数据，赋值给key，即key=A[0]；  \n",
    "3）从j开始向前搜索，即由后开始向前搜索(j--)，找到第一个小于key的值A[j]，将A[j]和A[i]互换；  \n",
    "4）从i开始向后搜索，即由前开始向后搜索(i++)，找到第一个大于key的A[i]，将A[i]和A[j]互换；  \n",
    "5）重复第3、4步，直到i=j； (3,4步中，没找到符合条件的值，即3中A[j]不小于key,4中A[i]不大于key的时候改变j、i的值，  使得j=j-1，i=i+1，直至找到为止。找到符合条件的值，进行交换的时候i， j指针位置不变。另外，i==j这一过程一定正好是  i+或j-完成的时候，此时令循环结束）。  \n",
    " \n",
    "\n",
    "时间复杂度：O(nlgn)  "
   ]
  },
  {
   "cell_type": "code",
   "execution_count": 1,
   "metadata": {},
   "outputs": [
    {
     "name": "stdout",
     "output_type": "stream",
     "text": [
      "Quick Sort: \n",
      "[13, 27, 38, 49, 49, 65, 76, 97]\n"
     ]
    }
   ],
   "source": [
    "#QuickSort by Alvin\n",
    "\n",
    "def QuickSort(myList,start,end):\n",
    "    #判断low是否小于high,如果为false,直接返回\n",
    "    if start < end:\n",
    "        i,j = start,end\n",
    "        #设置基准数\n",
    "        base = myList[i]\n",
    "\n",
    "        while i < j:\n",
    "            #如果列表后边的数,比基准数大或相等,则前移一位直到有比基准数小的数出现\n",
    "            while (i < j) and (myList[j] >= base):\n",
    "                j = j - 1\n",
    "\n",
    "            #如找到,则把第j个元素赋值给第个元素i,此时表中i,j个元素相等\n",
    "            myList[i] = myList[j]\n",
    "\n",
    "            #同样的方式比较前半区\n",
    "            while (i < j) and (myList[i] <= base):\n",
    "                i = i + 1\n",
    "            myList[j] = myList[i]\n",
    "        #做完第一轮比较之后,列表被分成了两个半区,并且i=j,需要将这个数设置回base\n",
    "        myList[i] = base\n",
    "\n",
    "        #递归前后半区\n",
    "        QuickSort(myList, start, i - 1)\n",
    "        QuickSort(myList, j + 1, end)\n",
    "    return myList\n",
    "\n",
    "\n",
    "myList = [49,38,65,97,76,13,27,49]\n",
    "print(\"Quick Sort: \")\n",
    "QuickSort(myList,0,len(myList)-1)\n",
    "print(myList)"
   ]
  }
 ],
 "metadata": {
  "kernelspec": {
   "display_name": "Python 3",
   "language": "python",
   "name": "python3"
  },
  "language_info": {
   "codemirror_mode": {
    "name": "ipython",
    "version": 3
   },
   "file_extension": ".py",
   "mimetype": "text/x-python",
   "name": "python",
   "nbconvert_exporter": "python",
   "pygments_lexer": "ipython3",
   "version": "3.5.4"
  }
 },
 "nbformat": 4,
 "nbformat_minor": 2
}
