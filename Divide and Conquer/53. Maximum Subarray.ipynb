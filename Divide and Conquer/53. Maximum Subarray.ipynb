{
 "cells": [
  {
   "cell_type": "markdown",
   "metadata": {},
   "source": [
    "# 53. Maximum Subarray\n",
    "Find the contiguous subarray within an array (containing at least one number) which has the largest sum.  \n",
    "\n",
    "For example, given the array [-2,1,-3,4,-1,2,1,-5,4],  \n",
    "the contiguous subarray [4,-1,2,1] has the largest sum = 6.  \n",
    "\n",
    "click to show more practice.  \n",
    "\n",
    "More practice:  \n",
    "If you have figured out the O(n) solution, try coding another solution using the divide and conquer approach, which is more   subtle.\n",
    "\n"
   ]
  },
  {
   "cell_type": "markdown",
   "metadata": {},
   "source": [
    "# Solution 1"
   ]
  },
  {
   "cell_type": "code",
   "execution_count": 1,
   "metadata": {},
   "outputs": [],
   "source": [
    "class Solution:\n",
    "    def maxSubArray(self, nums):\n",
    "        \"\"\"\n",
    "        :type nums: List[int]\n",
    "        :rtype: int\n",
    "        \"\"\"\n",
    "        if len(nums) == 1:\n",
    "            return nums[0]\n",
    "        cur = res = nums[0]\n",
    "        for i in range(1,len(nums)):\n",
    "            if cur + nums[i] < nums[i]:\n",
    "                cur = nums[i]\n",
    "            else:\n",
    "                cur += nums[i]\n",
    "            res = max(cur,res)\n",
    "        return res"
   ]
  },
  {
   "cell_type": "markdown",
   "metadata": {},
   "source": [
    "# Solution 2 \n",
    "分治法\n",
    "从中间分开，两边分别递归，同时处理跨界的情况"
   ]
  },
  {
   "cell_type": "code",
   "execution_count": null,
   "metadata": {},
   "outputs": [],
   "source": [
    "class Solution:\n",
    "    def maxSubArray(self, nums):\n",
    "        \"\"\"\n",
    "        :type nums: List[int]\n",
    "        :rtype: int\n",
    "        \"\"\"\n",
    "        return self.maximum_sub_array_sum_rec(nums, 0, len(nums) - 1)[4]\n",
    "    def maximum_sub_array_sum_rec(self, arr, st, end):\n",
    "        if st == end: # base case, handle single element\n",
    "            return arr[st], st, arr[st], end, arr[st]\n",
    "        mid = st + (end - st)//2\n",
    "        left_sum1, left_index1, right_sum1, right_index1, max_sum1 = self.maximum_sub_array_sum_rec(arr, st, mid)\n",
    "        left_sum2, left_index2, right_sum2, right_index2, max_sum2 = self.maximum_sub_array_sum_rec(arr, mid + 1, end)\n",
    "\n",
    "        # re-calculate left_sum, left_index for the merged array\n",
    "        cur_max_sum_left, cur_left_index = self.recalculate_sum_index(arr, left_index1+1, end+1, 1, left_sum1, left_index1)\n",
    "        # re-calculate right_sum, right_index for the merged array\n",
    "        cur_max_sum_right, cur_right_index = self.recalculate_sum_index(arr, right_index2-1, st-1, -1, right_sum2, right_index2)\n",
    "\n",
    "        res_sum = max(right_sum1 + left_sum2, max_sum1, max_sum2) # calculate the resultant max sub array sum of merged array\n",
    "        return cur_max_sum_left, cur_left_index, cur_max_sum_right, cur_right_index, res_sum\n",
    "\n",
    "    def recalculate_sum_index(self, arr, start, end, step, sum, index):\n",
    "        sum_temp, cur_max_sum, cur_index = sum, sum, index\n",
    "        for i in range(start, end, step):\n",
    "            sum_temp += arr[i]\n",
    "            cur_max_sum, cur_index = (sum_temp, i) if sum_temp > cur_max_sum else (cur_max_sum, cur_index)\n",
    "        return cur_max_sum, cur_index"
   ]
  },
  {
   "cell_type": "markdown",
   "metadata": {},
   "source": [
    "# Time\n",
    "solution 1  O(n)  \n",
    "solution 2 O(n)"
   ]
  },
  {
   "cell_type": "markdown",
   "metadata": {},
   "source": [
    "# Note\n",
    "python  连续两个除号相等于对结果向下取整"
   ]
  },
  {
   "cell_type": "code",
   "execution_count": 4,
   "metadata": {},
   "outputs": [
    {
     "name": "stdout",
     "output_type": "stream",
     "text": [
      "1\n",
      "1.5\n"
     ]
    }
   ],
   "source": [
    "print(3//2)\n",
    "print(3/2)"
   ]
  },
  {
   "cell_type": "code",
   "execution_count": null,
   "metadata": {},
   "outputs": [],
   "source": []
  }
 ],
 "metadata": {
  "kernelspec": {
   "display_name": "Python 3",
   "language": "python",
   "name": "python3"
  },
  "language_info": {
   "codemirror_mode": {
    "name": "ipython",
    "version": 3
   },
   "file_extension": ".py",
   "mimetype": "text/x-python",
   "name": "python",
   "nbconvert_exporter": "python",
   "pygments_lexer": "ipython3",
   "version": "3.5.4"
  }
 },
 "nbformat": 4,
 "nbformat_minor": 2
}
