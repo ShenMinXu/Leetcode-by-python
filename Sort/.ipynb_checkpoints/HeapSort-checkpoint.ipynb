{
 "cells": [
  {
   "cell_type": "markdown",
   "metadata": {},
   "source": [
    "堆排序\n",
    "\n",
    "堆\n",
    "\n",
    "在这里首先要先解释一下什么是堆，堆栈是计算机的两种最基本的数据结构。堆的特点就是FIFO(first in first out)先进先出，这里的话我觉得可以理解成树的结构。堆在接收数据的时候先接收的数据会被先弹出。 \n",
    "栈的特性正好与堆相反，是属于FILO(first in/last out)先进后出的类型。栈处于一级缓存而堆处于二级缓存中。这个不是本文重点所以不做过多展开。\n",
    "\n",
    "堆排序节点访问和操作定义\n",
    "\n",
    "堆节点的访问\n",
    "\n",
    "在这里我们借用wiki的定义来说明： \n",
    "通常堆是通过一维数组来实现的。在阵列起始位置为0的情况中 \n",
    "(1)父节点i的左子节点在位置(2*i+1); \n",
    "(2)父节点i的右子节点在位置(2*i+2); \n",
    "(3)子节点i的父节点在位置floor((i-1)/2);\n",
    "\n",
    "堆操作\n",
    "\n",
    "堆可以分为大根堆和小根堆，这里用最大堆的情况来定义操作: \n",
    "(1)最大堆调整(MAX_Heapify):将堆的末端子节点作调整，使得子节点永远小于父节点。这是核心步骤，在建堆和堆排序都会用到。比较i的根节点和与其所对应i的孩子节点的值。当i根节点的值比左孩子节点的值要小的时候，就把i根节点和左孩子节点所对应的值交换，当i根节点的值比右孩子的节点所对应的值要小的时候，就把i根节点和右孩子节点所对应的值交换。然后再调用堆调整这个过程，可见这是一个递归的过程。 \n",
    "(2)建立最大堆(Build_Max_Heap):将堆所有数据重新排序。建堆的过程其实就是不断做最大堆调整的过程，从len/2出开始调整，一直比到第一个节点。 \n",
    "(3)堆排序(HeapSort):移除位在第一个数据的根节点，并做最大堆调整的递归运算。堆排序是利用建堆和堆调整来进行的。首先先建堆，然后将堆的根节点选出与最后一个节点进行交换，然后将前面len-1个节点继续做堆调整的过程。直到将所有的节点取出，对于n个数我们只需要做n-1次操作。 \n",
    "\n",
    "\n",
    "堆排序的时间复杂度分为两个部分一个是建堆的时候所耗费的时间，一个是进行堆调整的时候所耗费的时间。而堆排序则是调用了建堆和堆调整。 \n",
    "刚刚在上面也提及到了，建堆是一个线性过程，从len/2-0一直调用堆调整的过程，相当于o(h1)+o(h2)+…+o(hlen/2)这里的h表示节点深度，len/2表示节点深度，对于求和过程，结果为线性的O（n） \n",
    "堆调整为一个递归的过程，调整堆的过程时间复杂度与堆的深度有关系，相当于lgn的操作。 \n",
    "因为建堆的时间复杂度是O（n）,调整堆的时间复杂度是lgn，所以堆排序的时间复杂度是O（nlgn）"
   ]
  },
  {
   "cell_type": "code",
   "execution_count": 3,
   "metadata": {},
   "outputs": [
    {
     "name": "stdout",
     "output_type": "stream",
     "text": [
      "[30, 50, 57, 77, 62, 78, 94, 80, 84]\n",
      "[30, 50, 57, 62, 77, 78, 80, 84, 94]\n"
     ]
    }
   ],
   "source": [
    "import random\n",
    "\n",
    "def MAX_Heapify(heap,HeapSize,root):#在堆中做结构调整使得父节点的值大于子节点\n",
    "\n",
    "    left = 2*root + 1\n",
    "    right = left + 1\n",
    "    larger = root\n",
    "    if left < HeapSize and heap[larger] < heap[left]:\n",
    "        larger = left\n",
    "    if right < HeapSize and heap[larger] < heap[right]:\n",
    "        larger = right\n",
    "    if larger != root:#如果做了堆调整则larger的值等于左节点或者右节点的，这个时候做对调值操作\n",
    "        heap[larger],heap[root] = heap[root],heap[larger]\n",
    "        MAX_Heapify(heap, HeapSize, larger)\n",
    "\n",
    "def Build_MAX_Heap(heap):#构造一个堆，将堆中所有数据重新排序\n",
    "    HeapSize = len(heap)#将堆的长度当独拿出来方便\n",
    "    for i in range((HeapSize -2)//2,-1,-1):#从后往前出数\n",
    "        MAX_Heapify(heap,HeapSize,i)\n",
    "\n",
    "def HeapSort(heap):#将根节点取出与最后一位做对调，对前面len-1个节点继续进行对调整过程。\n",
    "    Build_MAX_Heap(heap)\n",
    "    for i in range(len(heap)-1,-1,-1):\n",
    "        heap[0],heap[i] = heap[i],heap[0]\n",
    "        MAX_Heapify(heap, i, 0)\n",
    "    return heap\n",
    "\n",
    "if __name__ == '__main__':\n",
    "    a = [30,50,57,77,62,78,94,80,84]\n",
    "    print(a)\n",
    "    HeapSort(a)\n",
    "    print(a)\n"
   ]
  },
  {
   "cell_type": "code",
   "execution_count": null,
   "metadata": {},
   "outputs": [],
   "source": []
  }
 ],
 "metadata": {
  "kernelspec": {
   "display_name": "Python 3",
   "language": "python",
   "name": "python3"
  },
  "language_info": {
   "codemirror_mode": {
    "name": "ipython",
    "version": 3
   },
   "file_extension": ".py",
   "mimetype": "text/x-python",
   "name": "python",
   "nbconvert_exporter": "python",
   "pygments_lexer": "ipython3",
   "version": "3.5.4"
  }
 },
 "nbformat": 4,
 "nbformat_minor": 2
}
