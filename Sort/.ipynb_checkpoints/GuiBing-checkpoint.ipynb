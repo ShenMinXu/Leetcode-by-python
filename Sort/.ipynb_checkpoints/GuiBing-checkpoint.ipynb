{
 "cells": [
  {
   "cell_type": "markdown",
   "metadata": {},
   "source": [
    "归并排序是建立在归并操作上的一种有效的排序算法,该算法是采用分治法（Divide and Conquer）的一个非常典型的应用。将已有序的子序列合并，得到完全有序的序列；即先使每个子序列有序，再使子序列段间有序。若将两个有序表合并成一个有序表，称为二路归并。\n",
    "\n",
    "归并过程为：比较a[i]和a[j]的大小，若a[i]≤a[j]，则将第一个有序表中的元素a[i]复制到r[k]中，并令i和k分别加上1；否则将第二个有序表中的元素a[j]复制到r[k]中，并令j和k分别加上1，如此循环下去，直到其中一个有序表取完，然后再将另一个有序表中剩余的元素复制到r中从下标k到下标t的单元。归并排序的算法我们通常用递归实现，先把待排序区间[s,t]以中点二分，接着把左边子区间排序，再把右边子区间排序，最后把左区间和右区间用一次归并操作合并成有序的区间[s,t]"
   ]
  },
  {
   "cell_type": "code",
   "execution_count": 3,
   "metadata": {},
   "outputs": [
    {
     "name": "stdout",
     "output_type": "stream",
     "text": [
      "[3, 4, 5, 7, 8, 9]\n"
     ]
    }
   ],
   "source": [
    "def merge(a, b):\n",
    "    c = []\n",
    "    h = j = 0\n",
    "    while j < len(a) and h < len(b):\n",
    "        if a[j] < b[h]:\n",
    "            c.append(a[j])\n",
    "            j += 1\n",
    "        else:\n",
    "            c.append(b[h])\n",
    "            h += 1\n",
    "\n",
    "    if j == len(a):\n",
    "        for i in b[h:]:\n",
    "            c.append(i)\n",
    "    else:\n",
    "        for i in a[j:]:\n",
    "            c.append(i)\n",
    "\n",
    "    return c\n",
    "\n",
    "\n",
    "def merge_sort(lists):\n",
    "    if len(lists) <= 1:\n",
    "        return lists\n",
    "    middle = len(lists)//2\n",
    "    left = merge_sort(lists[:middle])\n",
    "    right = merge_sort(lists[middle:])\n",
    "    return merge(left, right)\n",
    "\n",
    "\n",
    "if __name__ == '__main__':\n",
    "    a = [4, 7, 8, 3, 5, 9]\n",
    "    print(merge_sort(a))"
   ]
  },
  {
   "cell_type": "code",
   "execution_count": null,
   "metadata": {},
   "outputs": [],
   "source": []
  }
 ],
 "metadata": {
  "kernelspec": {
   "display_name": "Python 3",
   "language": "python",
   "name": "python3"
  },
  "language_info": {
   "codemirror_mode": {
    "name": "ipython",
    "version": 3
   },
   "file_extension": ".py",
   "mimetype": "text/x-python",
   "name": "python",
   "nbconvert_exporter": "python",
   "pygments_lexer": "ipython3",
   "version": "3.5.4"
  }
 },
 "nbformat": 4,
 "nbformat_minor": 2
}
