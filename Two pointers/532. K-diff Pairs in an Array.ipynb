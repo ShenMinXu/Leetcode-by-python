{
 "cells": [
  {
   "cell_type": "markdown",
   "metadata": {},
   "source": [
    "# 532. K-diff Pairs in an Array\n",
    "Given an array of integers and an integer k, you need to find the number of unique k-diff pairs in the array. Here a k-diff pair is defined as an integer pair (i, j), where i and j are both numbers in the array and their absolute difference is k.\n",
    "\n",
    "Example 1:  \n",
    "Input: [3, 1, 4, 1, 5], k = 2  \n",
    "Output: 2  \n",
    "Explanation: There are two 2-diff pairs in the array, (1, 3) and (3, 5).  \n",
    "Although we have two 1s in the input, we should only return the number of unique pairs.  \n",
    "Example 2:  \n",
    "Input:[1, 2, 3, 4, 5], k = 1  \n",
    "Output: 4  \n",
    "Explanation: There are four 1-diff pairs in the array, (1, 2), (2, 3), (3, 4) and (4, 5).  \n",
    "Example 3:  \n",
    "Input: [1, 3, 1, 5, 4], k = 0  \n",
    "Output: 1  \n",
    "Explanation: There is one 0-diff pair in the array, (1, 1).  \n",
    "Note:  \n",
    "The pairs (i, j) and (j, i) count as the same pair.  \n",
    "The length of the array won't exceed 10,000.  \n",
    "All the integers in the given input belong to the range: [-1e7, 1e7].  "
   ]
  },
  {
   "cell_type": "markdown",
   "metadata": {},
   "source": [
    "# Solution\n",
    "k ！= 0  \n",
    "去掉数组的重复项(同set)  \n",
    "遍历，nums[i]+ k 在数组里，result+1\n",
    "\n",
    "k == 0  \n",
    "用counter算次数大于2的元素"
   ]
  },
  {
   "cell_type": "code",
   "execution_count": 35,
   "metadata": {},
   "outputs": [],
   "source": [
    "class Solution:\n",
    "    def findPairs(self, nums, k):\n",
    "        \"\"\"\n",
    "        :type nums: List[int]\n",
    "        :type k: int\n",
    "        :rtype: int\n",
    "        \"\"\"\n",
    "        res = 0\n",
    "        c = collections.Counter(nums)\n",
    "        for i in c:\n",
    "            if k > 0 and i + k in c or k == 0 and c[i] > 1:\n",
    "                res += 1\n",
    "        return res\n",
    "                "
   ]
  },
  {
   "cell_type": "code",
   "execution_count": null,
   "metadata": {},
   "outputs": [],
   "source": []
  },
  {
   "cell_type": "code",
   "execution_count": null,
   "metadata": {},
   "outputs": [],
   "source": []
  },
  {
   "cell_type": "code",
   "execution_count": null,
   "metadata": {},
   "outputs": [],
   "source": []
  },
  {
   "cell_type": "code",
   "execution_count": null,
   "metadata": {},
   "outputs": [],
   "source": []
  }
 ],
 "metadata": {
  "kernelspec": {
   "display_name": "Python 3",
   "language": "python",
   "name": "python3"
  },
  "language_info": {
   "codemirror_mode": {
    "name": "ipython",
    "version": 3
   },
   "file_extension": ".py",
   "mimetype": "text/x-python",
   "name": "python",
   "nbconvert_exporter": "python",
   "pygments_lexer": "ipython3",
   "version": "3.5.4"
  }
 },
 "nbformat": 4,
 "nbformat_minor": 2
}
