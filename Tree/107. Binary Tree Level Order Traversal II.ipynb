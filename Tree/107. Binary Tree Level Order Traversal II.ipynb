{
 "cells": [
  {
   "cell_type": "markdown",
   "metadata": {},
   "source": [
    "# 107. Binary Tree Level Order Traversal II\n",
    "Given a binary tree, return the bottom-up level order traversal of its nodes' values. (ie, from left to right, level by level from leaf to root).\n",
    "\n",
    "    For example:\n",
    "    Given binary tree [3,9,20,null,null,15,7],\n",
    "        3\n",
    "       / \\\n",
    "      9  20\n",
    "        /  \\\n",
    "       15   7\n",
    "    return its bottom-up level order traversal as:\n",
    "[  \n",
    "  [15,7],  \n",
    "  [9,20],  \n",
    "  [3]  \n",
    "]  "
   ]
  },
  {
   "cell_type": "markdown",
   "metadata": {},
   "source": [
    "# Solution1（ERROR）\n",
    "自己的思路是先从上之下，从左至右用个递归遍历，然后输出的时候把list 逆序输出，不过错了。。。。  \n",
    "感觉题目出的有问题。。。  \n",
    "[1,2,3,4,null,null,5] 中4和5是不同枝干的叶子，输出按道理应该是 [[5],[4],[2,3],[1]]，但是答案是[[4,5],[2,3],[1]]  "
   ]
  },
  {
   "cell_type": "code",
   "execution_count": 3,
   "metadata": {},
   "outputs": [],
   "source": [
    "# Definition for a binary tree node.\n",
    "# class TreeNode:\n",
    "#     def __init__(self, x):\n",
    "#         self.val = x\n",
    "#         self.left = None\n",
    "#         self.right = None\n",
    "\n",
    "class Solution:\n",
    "    def levelOrderBottom(self, root):\n",
    "        \"\"\"\n",
    "        :type root: TreeNode\n",
    "        :rtype: List[List[int]]\n",
    "        \"\"\"\n",
    "        res = []\n",
    "        if not root:\n",
    "            return res\n",
    "        else:\n",
    "            res.append([root.val])\n",
    "            res =  res + self.levelorder(root)\n",
    "            return res[-1:]\n",
    "        \n",
    "        \n",
    "    def levelorder(self,root):\n",
    "        res = []\n",
    "        if not root:\n",
    "            return res\n",
    "        if root.left != None and root.right !=None:\n",
    "            res.append([root.left.val,root.right.val])\n",
    "        elif root.left != None:\n",
    "            res.append([root.left.val])\n",
    "        elif root.right != None:\n",
    "            res.append([root.right.val])\n",
    "        return res + self.levelOrderBottom(root.left) + self.levelOrderBottom(root.right)\n",
    "            \n",
    "            "
   ]
  },
  {
   "cell_type": "markdown",
   "metadata": {},
   "source": [
    "# Solution2\n",
    "使用level变量来控制list中append的位置，这样返回的时候就不用逆序返回"
   ]
  },
  {
   "cell_type": "code",
   "execution_count": 1,
   "metadata": {},
   "outputs": [
    {
     "data": {
      "text/plain": [
       "[1]"
      ]
     },
     "execution_count": 1,
     "metadata": {},
     "output_type": "execute_result"
    }
   ],
   "source": [
    "class Solution:\n",
    "    def levelOrderBottom(self, root):\n",
    "        \"\"\"\n",
    "        :type root: TreeNode\n",
    "        :rtype: List[List[int]]\n",
    "        \"\"\"\n",
    "        res = []\n",
    "        self.dfs(root, 0, res)\n",
    "        return res\n",
    "\n",
    "def dfs(self, root, level, res):\n",
    "    if root:\n",
    "        if len(res) < level + 1:\n",
    "            res.insert(0, [])\n",
    "        res[-(level+1)].append(root.val)\n",
    "        self.dfs(root.left, level+1, res)\n",
    "        self.dfs(root.right, level+1, res)"
   ]
  },
  {
   "cell_type": "code",
   "execution_count": 11,
   "metadata": {},
   "outputs": [
    {
     "data": {
      "text/plain": [
       "[3, 2, 1]"
      ]
     },
     "execution_count": 11,
     "metadata": {},
     "output_type": "execute_result"
    }
   ],
   "source": []
  },
  {
   "cell_type": "code",
   "execution_count": null,
   "metadata": {},
   "outputs": [],
   "source": []
  }
 ],
 "metadata": {
  "kernelspec": {
   "display_name": "Python 3",
   "language": "python",
   "name": "python3"
  },
  "language_info": {
   "codemirror_mode": {
    "name": "ipython",
    "version": 3
   },
   "file_extension": ".py",
   "mimetype": "text/x-python",
   "name": "python",
   "nbconvert_exporter": "python",
   "pygments_lexer": "ipython3",
   "version": "3.5.4"
  }
 },
 "nbformat": 4,
 "nbformat_minor": 2
}
