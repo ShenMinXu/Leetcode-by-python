{
 "cells": [
  {
   "cell_type": "markdown",
   "metadata": {},
   "source": [
    "# 198. House Robber\n",
    "\n",
    "You are a professional robber planning to rob houses along a street. Each house has a certain amount of money stashed, the only constraint stopping you from robbing each of them is that adjacent houses have security system connected and it will automatically contact the police if two adjacent houses were broken into on the same night.\n",
    "\n",
    "Given a list of non-negative integers representing the amount of money of each house, determine the maximum amount of money you can rob tonight without alerting the police."
   ]
  },
  {
   "cell_type": "markdown",
   "metadata": {},
   "source": [
    "# Solution1\n",
    "思路和70题差不多，从顶向下的解法，第n家要不要抢的决策取决于 max（S（n-2）+an，S（n-1））,一样又TLE了"
   ]
  },
  {
   "cell_type": "code",
   "execution_count": 4,
   "metadata": {},
   "outputs": [],
   "source": [
    "class Solution:\n",
    "    def rob(self, nums):\n",
    "        \"\"\"\n",
    "        :type nums: List[int]\n",
    "        :rtype: int\n",
    "        \"\"\"\n",
    "        if nums ==[]:\n",
    "            return 0\n",
    "        n = len(nums)\n",
    "        if n==1:\n",
    "            return nums[0]\n",
    "        elif n==2:\n",
    "            return max(nums[0],nums[1])\n",
    "        else:\n",
    "            return max(self.rob(nums[0:n-2])+nums[n-1],self.rob(nums[0:n-1]))\n",
    "            "
   ]
  },
  {
   "cell_type": "markdown",
   "metadata": {},
   "source": [
    "# Solution2\n",
    "从底向上"
   ]
  },
  {
   "cell_type": "code",
   "execution_count": 16,
   "metadata": {},
   "outputs": [],
   "source": [
    "class Solution2:\n",
    "    def rob(self, nums):\n",
    "        \"\"\"\n",
    "        :type nums: List[int]\n",
    "        :rtype: int\n",
    "        \"\"\"\n",
    "        if nums ==[]:\n",
    "            return 0\n",
    "        n = len(nums)\n",
    "        if n==1:\n",
    "            return nums[0]\n",
    "        elif n==2:\n",
    "            return max(nums[0],nums[1])\n",
    "        else:\n",
    "            money  = [0 for i in range(n)]\n",
    "            money[0] = nums[0]\n",
    "            money[1] = max(nums[0],nums[1])\n",
    "            for i in range(2,n):\n",
    "                money[i] = max(money[i-2]+nums[i],money[i-1])\n",
    "            return money[-1]"
   ]
  },
  {
   "cell_type": "markdown",
   "metadata": {},
   "source": [
    "# Time complexity\n",
    "Solution1 O(n^2)  \n",
    "Solution2 O(n)"
   ]
  },
  {
   "cell_type": "code",
   "execution_count": null,
   "metadata": {},
   "outputs": [],
   "source": []
  },
  {
   "cell_type": "code",
   "execution_count": null,
   "metadata": {},
   "outputs": [],
   "source": []
  }
 ],
 "metadata": {
  "kernelspec": {
   "display_name": "Python 3",
   "language": "python",
   "name": "python3"
  },
  "language_info": {
   "codemirror_mode": {
    "name": "ipython",
    "version": 3
   },
   "file_extension": ".py",
   "mimetype": "text/x-python",
   "name": "python",
   "nbconvert_exporter": "python",
   "pygments_lexer": "ipython3",
   "version": "3.5.4"
  }
 },
 "nbformat": 4,
 "nbformat_minor": 2
}
